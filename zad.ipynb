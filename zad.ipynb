{
 "cells": [
  {
   "cell_type": "markdown",
   "metadata": {
    "slideshow": {
     "slide_type": "slide"
    }
   },
   "source": [
    "## Zadanie\n",
    "\n",
    "Wczytaj dane \"Breast Cancer Wisconsin\" i przeprowadź preprocesing zgodnie z podanymi poniżej wytycznymi.\n",
    "\n",
    "Dane znajdują się w repozytorium pod adresem [dane/breast-cancer.data](dane/breast-cancer.data) (tub można je popbrać [tutaj](https://github.com/IS-UMK/wdm_lab_04/blob/master/dane/breast-cancer.data))\n",
    "\n",
    "Dane zawierają wartości opisujące cechy jąder komórkowych obecnych na obrazie uzyskanym przy badaniu piersi dla dwóch grup pacjentów: `benign` (złośliwy), `malignat` (łagodny).\n",
    "\n",
    "Oto lista zmiennych:\n",
    "\n",
    "```\n",
    "   #  Attribute                     Domain\n",
    "   -- -----------------------------------------\n",
    "   1. Sample code number            id number\n",
    "   2. Clump Thickness               1 - 10\n",
    "   3. Uniformity of Cell Size       1 - 10\n",
    "   4. Uniformity of Cell Shape      1 - 10\n",
    "   5. Marginal Adhesion             1 - 10\n",
    "   6. Single Epithelial Cell Size   1 - 10\n",
    "   7. Bare Nuclei                   1 - 10\n",
    "   8. Bland Chromatin               1 - 10\n",
    "   9. Normal Nucleoli               1 - 10\n",
    "  10. Mitoses                       1 - 10\n",
    "  11. Class                         (2 for benign, 4 for malignant)\n",
    "\n",
    "```\n",
    "\n",
    "Wszystkie istotne cechy posiadają wartości numeryczne (całkowite) z zakresu od 1 do 10, ostatnia zmienna zawiera informacje o 2 klasach."
   ]
  },
  {
   "cell_type": "markdown",
   "metadata": {
    "slideshow": {
     "slide_type": "slide"
    }
   },
   "source": [
    "1. Wczytaj zbiór danych ``brast-cancer.data`` do tablicy `DataFrame` używając Pandas. Dane są w formacie zgodnym z CSV (wartości są oddzielone przecinkami). Zwróć uwagę na to, że plik nie posiada nagłówka, tzn. pierwsza linia pliku nie zawiera nazw zmiennych. Nadaj odpowiednie nazwy zmiennych zgodne z opisem danych. "
   ]
  },
  {
   "cell_type": "code",
   "execution_count": null,
   "metadata": {},
   "outputs": [
    {
     "name": "stdout",
     "output_type": "stream",
     "text": [
      "   sample-code-number  clump-thickness  uniformity-of-cell-size  \\\n",
      "0             1000025                5                        1   \n",
      "1             1002945                5                        4   \n",
      "2             1015425                3                        1   \n",
      "3             1016277                6                        8   \n",
      "4             1017023                4                        1   \n",
      "\n",
      "   uniformity-of-cell-shape  marginal-adhesion  single-epithelial-cell-size  \\\n",
      "0                         1                  1                            2   \n",
      "1                         4                  5                            7   \n",
      "2                         1                  1                            2   \n",
      "3                         8                  1                            3   \n",
      "4                         1                  3                            2   \n",
      "\n",
      "  bare-nuclei  bland-chromatin  normal-nucleoli  mitosis  class  \n",
      "0           1                3                1        1      2  \n",
      "1          10                3                2        1      2  \n",
      "2           2                3                1        1      2  \n",
      "3           4                3                7        1      2  \n",
      "4           1                3                1        1      2  \n"
     ]
    }
   ],
   "source": [
    "import pandas as pd\n",
    "\n",
    "df = pd.read_csv('./dane/breast-cancer.data', header=None)\n",
    "\n",
    "df.columns = ['sample-code-number', 'clump-thickness', 'uniformity-of-cell-size',\n",
    "               'uniformity-of-cell-shape', 'marginal-adhesion', 'single-epithelial-cell-size',\n",
    "               'bare-nuclei', 'bland-chromatin', 'normal-nucleoli', 'mitosis', 'class']\n",
    "\n",
    "print(df.head())"
   ]
  },
  {
   "cell_type": "markdown",
   "metadata": {
    "slideshow": {
     "slide_type": "-"
    }
   },
   "source": [
    "2. Pierwsza zmienna zawiera liczby porządkowe (``Sample_code_number``) identyfikujące pacjentów. Ta zmienna jest nieistotna dla analizy. Usuń ją ze zbioru."
   ]
  },
  {
   "cell_type": "code",
   "execution_count": null,
   "metadata": {},
   "outputs": [
    {
     "name": "stdout",
     "output_type": "stream",
     "text": [
      "   clump-thickness  uniformity-of-cell-size  uniformity-of-cell-shape  \\\n",
      "0                5                        1                         1   \n",
      "1                5                        4                         4   \n",
      "2                3                        1                         1   \n",
      "3                6                        8                         8   \n",
      "4                4                        1                         1   \n",
      "\n",
      "   marginal-adhesion  single-epithelial-cell-size bare-nuclei  \\\n",
      "0                  1                            2           1   \n",
      "1                  5                            7          10   \n",
      "2                  1                            2           2   \n",
      "3                  1                            3           4   \n",
      "4                  3                            2           1   \n",
      "\n",
      "   bland-chromatin  normal-nucleoli  mitosis  class  \n",
      "0                3                1        1      2  \n",
      "1                3                2        1      2  \n",
      "2                3                1        1      2  \n",
      "3                3                7        1      2  \n",
      "4                3                1        1      2  \n"
     ]
    }
   ],
   "source": [
    "df = df.drop(columns=['sample-code-number'], axis=1)\n",
    "\n",
    "print(df.head())"
   ]
  },
  {
   "cell_type": "markdown",
   "metadata": {
    "slideshow": {
     "slide_type": "-"
    }
   },
   "source": [
    "3. Wartości brakujące w tekstowym pliku wejściowym kodowane są za pomocą znaku zapytania (`?`). Wyświtl liczbę przypadków z wartościami brakującymi oraz liczbę wartości brakujących w każdej ze zmiennych."
   ]
  },
  {
   "cell_type": "code",
   "execution_count": null,
   "metadata": {},
   "outputs": [
    {
     "name": "stdout",
     "output_type": "stream",
     "text": [
      "Liczba brakujących wartości = 16\n",
      "clump-thickness                 0\n",
      "uniformity-of-cell-size         0\n",
      "uniformity-of-cell-shape        0\n",
      "marginal-adhesion               0\n",
      "single-epithelial-cell-size     0\n",
      "bare-nuclei                    16\n",
      "bland-chromatin                 0\n",
      "normal-nucleoli                 0\n",
      "mitosis                         0\n",
      "class                           0\n",
      "dtype: int64\n"
     ]
    }
   ],
   "source": [
    "count = (df == '?').sum().sum()\n",
    "print(f'Liczba brakujących wartości = {count}')\n",
    "\n",
    "counts_per_column = (df == '?').sum(axis=0);\n",
    "print(counts_per_column)"
   ]
  },
  {
   "cell_type": "markdown",
   "metadata": {
    "slideshow": {
     "slide_type": "slide"
    }
   },
   "source": [
    "4. Pozbądź się wartości brakujących ze zbioru danych. Usuń przypadki z brakami lub zamień wartości brakujące na wartość najczęściej występującą, czyli na wartość mody (dominanty), którą można wyznaczyć funkcją [DataFrame.mode()](https://pandas.pydata.org/pandas-docs/stable/reference/api/pandas.DataFrame.mode.html)).  \n",
    "Po transformacji wszystkie zmienne powinny być zmiennymi numerycznymi. Jeśli tak nie jest, to przetransformuj je do postaci numerycznej. "
   ]
  },
  {
   "cell_type": "code",
   "execution_count": null,
   "metadata": {},
   "outputs": [
    {
     "name": "stdout",
     "output_type": "stream",
     "text": [
      "Moda = 1\n",
      "Liczba brakujących wartości = 0\n"
     ]
    }
   ],
   "source": [
    "import numpy as np\n",
    "\n",
    "all_values_excluding_question = [value for value in df.values.flatten() if value != '?']\n",
    "\n",
    "mode = pd.Series(all_values_excluding_question).mode()[0]\n",
    "print(f'Moda = {mode}')\n",
    "df = df.replace('?', mode)\n",
    "count = (df == '?').sum().sum()\n",
    "print(f'Liczba brakujących wartości = {count}')"
   ]
  },
  {
   "cell_type": "code",
   "execution_count": 93,
   "metadata": {},
   "outputs": [
    {
     "name": "stdout",
     "output_type": "stream",
     "text": [
      "['bare-nuclei']\n"
     ]
    }
   ],
   "source": [
    "non_numeric = df.select_dtypes(exclude=[np.number]).columns.tolist()\n",
    "print(non_numeric)"
   ]
  },
  {
   "cell_type": "code",
   "execution_count": null,
   "metadata": {},
   "outputs": [
    {
     "name": "stdout",
     "output_type": "stream",
     "text": [
      "object\n",
      "int64\n",
      "   clump-thickness  uniformity-of-cell-size  uniformity-of-cell-shape  \\\n",
      "0                5                        1                         1   \n",
      "1                5                        4                         4   \n",
      "2                3                        1                         1   \n",
      "3                6                        8                         8   \n",
      "4                4                        1                         1   \n",
      "\n",
      "   marginal-adhesion  single-epithelial-cell-size  bare-nuclei  \\\n",
      "0                  1                            2            1   \n",
      "1                  5                            7           10   \n",
      "2                  1                            2            2   \n",
      "3                  1                            3            4   \n",
      "4                  3                            2            1   \n",
      "\n",
      "   bland-chromatin  normal-nucleoli  mitosis  class  \n",
      "0                3                1        1      2  \n",
      "1                3                2        1      2  \n",
      "2                3                1        1      2  \n",
      "3                3                7        1      2  \n",
      "4                3                1        1      2  \n"
     ]
    }
   ],
   "source": [
    "print(df[non_numeric[0]].dtype)\n",
    "\n",
    "df[non_numeric[0]] = pd.to_numeric(df[non_numeric[0]], errors='coerce')\n",
    "\n",
    "print(df[non_numeric[0]].dtype)\n",
    "\n",
    "print(df.head())"
   ]
  },
  {
   "cell_type": "markdown",
   "metadata": {
    "slideshow": {
     "slide_type": "-"
    }
   },
   "source": [
    "5. Sprawdź, czy zbiór danych zawiera przypadki odstające lub nietypowe. Spodziewamy się, że wszystkie zmienne (oprócz klasy) mają wartości całkowite w zakresie od 1 do 10. Usuń ze zbioru danych wszystkie przypadki, które uznasz za niespójne ze spodziewanym rozkładem danych. "
   ]
  },
  {
   "cell_type": "code",
   "execution_count": null,
   "metadata": {},
   "outputs": [
    {
     "name": "stdout",
     "output_type": "stream",
     "text": [
      "Zmienna clump-thickness - liczba zastąpionych wartości = 0\n",
      "Zmienna uniformity-of-cell-size - liczba zastąpionych wartości = 0\n",
      "Zmienna uniformity-of-cell-shape - liczba zastąpionych wartości = 1\n",
      "Zmienna marginal-adhesion - liczba zastąpionych wartości = 0\n",
      "Zmienna single-epithelial-cell-size - liczba zastąpionych wartości = 0\n",
      "Zmienna bare-nuclei - liczba zastąpionych wartości = 0\n",
      "Zmienna bland-chromatin - liczba zastąpionych wartości = 0\n",
      "Zmienna normal-nucleoli - liczba zastąpionych wartości = 0\n",
      "Zmienna mitosis - liczba zastąpionych wartości = 0\n"
     ]
    }
   ],
   "source": [
    "columns_to_check = [col for col in df.columns if col != 'class']\n",
    "\n",
    "for col in columns_to_check:\n",
    "    outside_range = (df[col] < 1) | (df[col] > 10)\n",
    "    df.loc[outside_range, col] = np.nan\n",
    "\n",
    "    replaced_count = outside_range.sum()\n",
    "    print(f'Zmienna {col} - liczba zastąpionych wartości = {replaced_count}')"
   ]
  },
  {
   "cell_type": "markdown",
   "metadata": {
    "slideshow": {
     "slide_type": "slide"
    }
   },
   "source": [
    "6. Usuń ze zbioru przypadki odstające, których wartości zmiennych wykraczają poza przedział $(\\bar{x}-3\\cdot\\sigma, \\bar{x}+ 3\\cdot\\sigma)$, gdzie $\\bar{x}$ to wartość średnia zmiennej, $\\sigma$ to odchylnie standardowe zmiennej."
   ]
  },
  {
   "cell_type": "code",
   "execution_count": null,
   "metadata": {},
   "outputs": [
    {
     "name": "stdout",
     "output_type": "stream",
     "text": [
      "Zmienna clump-thickness - liczba przypadków = 0\n",
      "Zmienna uniformity-of-cell-size - liczba przypadków = 0\n",
      "Zmienna uniformity-of-cell-shape - liczba przypadków = 1\n",
      "Zmienna marginal-adhesion - liczba przypadków = 0\n",
      "Zmienna single-epithelial-cell-size - liczba przypadków = 31\n",
      "Zmienna bare-nuclei - liczba przypadków = 0\n",
      "Zmienna bland-chromatin - liczba przypadków = 0\n",
      "Zmienna normal-nucleoli - liczba przypadków = 0\n",
      "Zmienna mitosis - liczba przypadków = 31\n",
      "Przed usunięciem przypadków = 699\n",
      "Po usunięciu przypadków = 647\n"
     ]
    }
   ],
   "source": [
    "rows_to_keep = pd.Series(True, index=df.index)\n",
    "\n",
    "for col in columns_to_check:\n",
    "    mean = df[col].mean()\n",
    "    std = df[col].std()\n",
    "\n",
    "    lower_bound = mean - 3 * std\n",
    "    upper_bound = mean + 3 * std\n",
    "\n",
    "    mask = (df[col] >= lower_bound) & (df[col] <= upper_bound)\n",
    "    rows_to_keep &= mask\n",
    "\n",
    "    cases_found = (~mask).sum()\n",
    "    print(f'Zmienna {col} - liczba przypadków = {cases_found}')\n",
    "\n",
    "print(f'Przed usunięciem przypadków = {len(df)}')\n",
    "df = df[rows_to_keep]\n",
    "print(f'Po usunięciu przypadków = {len(df)}')"
   ]
  },
  {
   "cell_type": "code",
   "execution_count": 97,
   "metadata": {},
   "outputs": [
    {
     "name": "stdout",
     "output_type": "stream",
     "text": [
      "   clump-thickness  uniformity-of-cell-size  uniformity-of-cell-shape  \\\n",
      "0              5.0                      1.0                       1.0   \n",
      "1              5.0                      4.0                       4.0   \n",
      "2              3.0                      1.0                       1.0   \n",
      "3              6.0                      8.0                       8.0   \n",
      "4              4.0                      1.0                       1.0   \n",
      "\n",
      "   marginal-adhesion  single-epithelial-cell-size  bare-nuclei  \\\n",
      "0                1.0                          2.0          1.0   \n",
      "1                5.0                          7.0         10.0   \n",
      "2                1.0                          2.0          2.0   \n",
      "3                1.0                          3.0          4.0   \n",
      "4                3.0                          2.0          1.0   \n",
      "\n",
      "   bland-chromatin  normal-nucleoli  mitosis  class  \n",
      "0              3.0              1.0      1.0      2  \n",
      "1              3.0              2.0      1.0      2  \n",
      "2              3.0              1.0      1.0      2  \n",
      "3              3.0              7.0      1.0      2  \n",
      "4              3.0              1.0      1.0      2  \n"
     ]
    }
   ],
   "source": [
    "print(df.head())"
   ]
  },
  {
   "cell_type": "markdown",
   "metadata": {
    "slideshow": {
     "slide_type": "-"
    }
   },
   "source": [
    "7. Usuń ze zbioru danych duplikaty, tzn. powtarzające sie przypadki. "
   ]
  },
  {
   "cell_type": "code",
   "execution_count": 98,
   "metadata": {},
   "outputs": [
    {
     "name": "stdout",
     "output_type": "stream",
     "text": [
      "Przed usunięciem duplikatów = 647\n",
      "Po usunięciu duplikatów = 406\n"
     ]
    }
   ],
   "source": [
    "print(f'Przed usunięciem duplikatów = {len(df)}')\n",
    "df = df.drop_duplicates()\n",
    "print(f'Po usunięciu duplikatów = {len(df)}')"
   ]
  },
  {
   "cell_type": "markdown",
   "metadata": {
    "slideshow": {
     "slide_type": "-"
    }
   },
   "source": [
    "8. Uzyskany zbiór danych wyeksportuj do pliku tekstowego w formacie CSV o nazwie ``breast-cancer.csv``. Plik wynikowy powinien zawierać nagłowek z nazwami zmiennych, średnik (`;`) jako separator oraz nie powinien zawierać zmiennej indeksującej.  Zabacz funkcję [DataFrame.to_csv()](https://pandas.pydata.org/pandas-docs/stable/reference/api/pandas.DataFrame.to_csv.html). Wynikowy plik danych umieść w repozytorium GitHub.\n",
    "\n",
    "\n"
   ]
  },
  {
   "cell_type": "code",
   "execution_count": null,
   "metadata": {},
   "outputs": [],
   "source": [
    "df.to_csv('breast-cancer.csv', sep=';', index=False, header=True)"
   ]
  }
 ],
 "metadata": {
  "celltoolbar": "Slideshow",
  "kernelspec": {
   "display_name": "Python 3",
   "language": "python",
   "name": "python3"
  },
  "language_info": {
   "codemirror_mode": {
    "name": "ipython",
    "version": 3
   },
   "file_extension": ".py",
   "mimetype": "text/x-python",
   "name": "python",
   "nbconvert_exporter": "python",
   "pygments_lexer": "ipython3",
   "version": "3.12.4"
  },
  "toc": {
   "base_numbering": 1,
   "nav_menu": {},
   "number_sections": true,
   "sideBar": true,
   "skip_h1_title": false,
   "title_cell": "Table of Contents",
   "title_sidebar": "Contents",
   "toc_cell": true,
   "toc_position": {
    "height": "calc(100% - 180px)",
    "left": "10px",
    "top": "150px",
    "width": "480px"
   },
   "toc_section_display": true,
   "toc_window_display": false
  },
  "varInspector": {
   "cols": {
    "lenName": 16,
    "lenType": 16,
    "lenVar": 40
   },
   "kernels_config": {
    "python": {
     "delete_cmd_postfix": "",
     "delete_cmd_prefix": "del ",
     "library": "var_list.py",
     "varRefreshCmd": "print(var_dic_list())"
    },
    "r": {
     "delete_cmd_postfix": ") ",
     "delete_cmd_prefix": "rm(",
     "library": "var_list.r",
     "varRefreshCmd": "cat(var_dic_list()) "
    }
   },
   "types_to_exclude": [
    "module",
    "function",
    "builtin_function_or_method",
    "instance",
    "_Feature"
   ],
   "window_display": false
  }
 },
 "nbformat": 4,
 "nbformat_minor": 4
}
